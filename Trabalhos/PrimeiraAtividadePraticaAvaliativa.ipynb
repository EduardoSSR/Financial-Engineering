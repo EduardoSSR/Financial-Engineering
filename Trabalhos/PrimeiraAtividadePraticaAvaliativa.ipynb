{
 "cells": [
  {
   "cell_type": "markdown",
   "metadata": {},
   "source": [
    "# Universidade de Brasília - UnB\n",
    "\n",
    "Campus UnB Gama - FGA\n",
    "\n",
    "CURSOS: Engenharia de Software e Engenharia Eletrônica\n",
    "\n",
    "DISCIPLINA: Tópicos Especiais em Software e Eletrônica\n",
    "\n",
    "CONTEÚDO: Métodos Quantitativos em Finanças\n",
    "\n",
    "PROFESSOR: Prof. Eng. Marcelino Monteiro de Andrade, Dr.\n",
    "    \n",
    "    Primeira Atividade Prática Avaliativa\n",
    "    Entrega da Atividade 25/09/2018 \n",
    "    \"A não entrega na data esperada reduz em 50% na nota da avaliação\""
   ]
  },
  {
   "cell_type": "raw",
   "metadata": {},
   "source": [
    "1) Considerando os índices da Bovespa, pertencente aos conjuntos Setorial ou por Segmento, (i) escolha aos seu critério 5 (cinco) índices e entre esses escolhidos os 5 (cinco) papeis mais líquidos.\n",
    "http://www.bmfbovespa.com.br/pt_br/produtos/indices/"
   ]
  },
  {
   "cell_type": "code",
   "execution_count": null,
   "metadata": {
    "collapsed": true
   },
   "outputs": [],
   "source": []
  },
  {
   "cell_type": "raw",
   "metadata": {},
   "source": [
    "2) Identifique (ii) a correlação entre os preços e os retornos. E refaça a escolha dos papeis, de forma que a correlação entre eles nunca fique acima de 0.8."
   ]
  },
  {
   "cell_type": "code",
   "execution_count": null,
   "metadata": {
    "collapsed": true
   },
   "outputs": [],
   "source": []
  },
  {
   "cell_type": "raw",
   "metadata": {},
   "source": [
    "3) Apresente (iii) os gráficos de preço no formato candlestick, (iv) o gráfico de retorno, (v) o índice Sharpe e o (vi) fator Beta com relação ao índice Bovespa."
   ]
  },
  {
   "cell_type": "code",
   "execution_count": null,
   "metadata": {
    "collapsed": true
   },
   "outputs": [],
   "source": []
  },
  {
   "cell_type": "raw",
   "metadata": {},
   "source": [
    "4) Considerando os 5 (cinco) papeis escolhidos, na questão 1, aplique a Teoria do Portfólio Moderno de Markowitz. Nesse sentido, (vii) Identifique o diagrama Risco x Retorno, (viii) a curva de eficiência, (ix) o portfólio de menor risco e o (x) portfólio com maior índice Sharpe."
   ]
  },
  {
   "cell_type": "code",
   "execution_count": null,
   "metadata": {
    "collapsed": true
   },
   "outputs": [],
   "source": []
  }
 ],
 "metadata": {
  "kernelspec": {
   "display_name": "Python 3",
   "language": "python",
   "name": "python3"
  },
  "language_info": {
   "codemirror_mode": {
    "name": "ipython",
    "version": 3
   },
   "file_extension": ".py",
   "mimetype": "text/x-python",
   "name": "python",
   "nbconvert_exporter": "python",
   "pygments_lexer": "ipython3",
   "version": "3.6.5"
  }
 },
 "nbformat": 4,
 "nbformat_minor": 2
}
